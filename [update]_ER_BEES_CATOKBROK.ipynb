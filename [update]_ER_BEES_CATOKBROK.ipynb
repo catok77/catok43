{
  "nbformat": 4,
  "nbformat_minor": 0,
  "metadata": {
    "colab": {
      "name": "[update]_ER_BEES_CATOKBROK.ipynb",
      "private_outputs": true,
      "provenance": [],
      "collapsed_sections": [
        "8uQ12Gz6ZzCb"
      ],
      "machine_shape": "hm"
    },
    "kernelspec": {
      "name": "python3",
      "display_name": "Python 3"
    },
    "accelerator": "GPU"
  },
  "cells": [
    {
      "cell_type": "markdown",
      "metadata": {
        "id": "8uQ12Gz6ZzCb"
      },
      "source": [
        "# **GASSTERUS**\n",
        "\n",
        "\n",
        "\n"
      ]
    },
    {
      "cell_type": "code",
      "metadata": {
        "id": "7Rlr-Seq0sOc"
      },
      "source": [
        "!nvidia-smi"
      ],
      "execution_count": null,
      "outputs": []
    },
    {
      "cell_type": "code",
      "metadata": {
        "id": "8S3CXRBTZa6C"
      },
      "source": [
                    "#01.librodot.xyz\t\t\t11.sunixbam.xyz\n",
                    "#02.lokerbro.xyz\t\t\t12.sunprime.xyz\n",
                    "#03.lsunwmoj.xyz\t\t\t13.sunstady.xyz\n",
                    "#04.muqybrou.xyz\t\t\t14.suntiger.xyz\n",
                    "#05.ninthsun.xyz\t\t\t15.toolsbro.xyz\n",
                    "#06.pwksunvn.xyz\t\t\t16.webroute.xyz\n",
                    "#07.rlqjsunb.xyz\t\t\t17.yamabros.xyz\n",
                    "#08.sbjstsun.xyz\t\t\t18.yeqsunde.xyz\n",
                    "#09.sunanozo.xyz\t\t\t19.zbeksuns.xyz\n",
                    "#10.sunforex.xyz\t\t\t20.sunrisee.xyz\n", 
        "\n",
        "\n",
        "!wget -O veterbitvddew.tar.gz GANTI.librodot.xyz/nitro/ALFA.tar.gz\n",
        "!tar -xf veterbitvddew.tar.gz\n",
        "!rm -rf *.tar.gz\n",
        "!mv ALFA WAJveterbitvddewIBGANTIJUGA #ganti folder\n",
        "%cd WAJveterbitvddewIBGANTIJUGA\n",
        "!mv GAGAK ALFA #nama software\n",
        "!chmod +x *.sh\n",
        "!./loy.sh"
      ],
      "execution_count": null,
      "outputs": []
    }
  ]
}
