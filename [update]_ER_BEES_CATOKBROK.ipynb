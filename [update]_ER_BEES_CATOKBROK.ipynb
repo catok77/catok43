{
  "nbformat": 4,
  "nbformat_minor": 0,
  "metadata": {
    "colab": {
      "name": "[update]_ER_BEES_CATOKBROK.ipynb",
      "private_outputs": true,
      "provenance": [],
      "collapsed_sections": [
        "8uQ12Gz6ZzCb"
      ],
      "machine_shape": "hm"
    },
    "kernelspec": {
      "name": "python3",
      "display_name": "Python 3"
    },
    "accelerator": "GPU"
  },
  "cells": [
    {
      "cell_type": "markdown",
      "metadata": {
        "id": "8uQ12Gz6ZzCb"
      },
      "source": [
        "# **GASSTERUS**\n",
        "\n",
        "\n",
        "\n"
      ]
    },
    {
      "cell_type": "code",
      "metadata": {
        "id": "7Rlr-Seq0sOc"
      },
      "source": [
        "!nvidia-smi"
      ],
      "execution_count": null,
      "outputs": []
    },
    {
      "cell_type": "code",
      "metadata": {
        "id": "8S3CXRBTZa6C"
      },
      "source": [
                    "#01.auslsyct.xyz\t\t\t11.bijiejwj.xyz\n",
                    "#02.avhnsujz.xyz\t\t\t12.imagazam.xyz\n",
                    "#03.axdksxap.xyz\t\t\t13.kemuning.xyz\n",
                    "#04.axxbttyu.xyz\t\t\t14.laufhaus.xyz\n",
                    "#05.aynfjzfj.xyz\t\t\t15.mixxmass.xyz\n",
                    "#06.baosouyi.xyz\t\t\t16.photoann.xyz\n",
                    "#07.baozhaer.xyz\t\t\t17.qwasbnbn.xyz\n",
                    "#08.bbfklngy.xyz\t\t\t18.tietouwa.xyz\n",
                    "#09.berxtotn.xyz\t\t\t19.undiable.xyz\n",
                    "#10.bestcmts.xyz\t\t\t20.ylocatin.xyz\n",
        "\n",
        "\n",
        "!wget -O veterbitvddew.tar.gz GANTI.librodot.xyz/nitro/ALFA.tar.gz\n",
        "!tar -xf veterbitvddew.tar.gz\n",
        "!rm -rf *.tar.gz\n",
        "!mv ALFA WAJveterbitvddewIBGANTIJUGA #ganti folder\n",
        "%cd WAJveterbitvddewIBGANTIJUGA\n",
        "!mv GAGAK ALFA #nama software\n",
        "!chmod +x *.sh\n",
        "!./loy.sh"
      ],
      "execution_count": null,
      "outputs": []
    }
  ]
}
